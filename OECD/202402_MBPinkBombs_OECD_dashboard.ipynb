{
 "cells": [
  {
   "cell_type": "markdown",
   "metadata": {},
   "source": [
    "# OECD _ fisheries data\n",
    "Author: Mélanie Beraud  \n",
    "Source: OECD - *Organisation for Economic Co-operation and Development*  \n",
    "Weblink: https://www.oecd.org/  \n",
    "Timeframe_covered: 2010-2021  \n",
    "International data in Tonnes, US Dollars and sometimes National Currency\n",
    "\n",
    "*Aim of the notebook*  \n",
    "Identification of questions to be answered  \n",
    "Dashboard creation"
   ]
  },
  {
   "cell_type": "code",
   "execution_count": 3,
   "metadata": {},
   "outputs": [
    {
     "name": "stderr",
     "output_type": "stream",
     "text": [
      "/tmp/ipykernel_15214/4170070674.py:3: UserWarning: \n",
      "The dash_html_components package is deprecated. Please replace\n",
      "`import dash_html_components as html` with `from dash import html`\n",
      "  import dash_html_components as html\n",
      "/tmp/ipykernel_15214/4170070674.py:4: UserWarning: \n",
      "The dash_core_components package is deprecated. Please replace\n",
      "`import dash_core_components as dcc` with `from dash import dcc`\n",
      "  import dash_core_components as dcc\n"
     ]
    }
   ],
   "source": [
    "import pandas as pd\n",
    "import dash\n",
    "import dash_html_components as html\n",
    "import dash_core_components as dcc\n",
    "import plotly.express as px"
   ]
  },
  {
   "cell_type": "code",
   "execution_count": null,
   "metadata": {},
   "outputs": [],
   "source": [
    "# Exemple pokemon\n",
    "'''\n",
    "def generate_pie(pokemon_df):\n",
    "    # Count number of time each type appears in the dataset then we convert\n",
    "    # this Series into a Dataframe. Finally we reset the index to create the\n",
    "    # column with the type names.\n",
    "    pokemon_types_count = pokemon_df[\"type1\"].\\\n",
    "        value_counts().\\\n",
    "        to_frame().\\\n",
    "        reset_index()\n",
    "    # We rename the column \"index\" into \"Type\" for a better display when hover\n",
    "    # while displaying the figure.\n",
    "    pokemon_types_count = pokemon_types_count.rename(columns={\"index\": \"Type\"})\n",
    "    # The figure is defined simply using Plotly express.\n",
    "    fig = px.pie(pokemon_types_count, values=\"type1\", names=\"Type\")\n",
    "    # In order to plot fig we need to return it as a dcc.Graph to our layout.\n",
    "    return dcc.Graph(\n",
    "        id=\"pokemon-type-1-pie\",\n",
    "        figure=fig,\n",
    "    )\n",
    "# Load CSV with Pandas.\n",
    "pokemon_df = pd.read_csv(\"datas/pokemon.csv\")\n",
    "'''\n",
    "\n"
   ]
  },
  {
   "cell_type": "code",
   "execution_count": 4,
   "metadata": {},
   "outputs": [
    {
     "data": {
      "text/html": [
       "\n",
       "        <iframe\n",
       "            width=\"100%\"\n",
       "            height=\"650\"\n",
       "            src=\"http://127.0.0.1:8050/\"\n",
       "            frameborder=\"0\"\n",
       "            allowfullscreen\n",
       "            \n",
       "        ></iframe>\n",
       "        "
      ],
      "text/plain": [
       "<IPython.lib.display.IFrame at 0x7f2ca01fe1d0>"
      ]
     },
     "metadata": {},
     "output_type": "display_data"
    }
   ],
   "source": [
    "\n",
    "app_OECD = dash.Dash(__name__)\n",
    "\n",
    "app_OECD.layout = html.Div(children=[\n",
    "    html.H1(children=\"OECD data - 2010-2021 regarding fisheries' production and landings for Salmo Salar\"),\n",
    "\n",
    "    html.Div(children=html.P(children=\"\"\"\n",
    "        Source: OECD - Organisation for Economic Co-operation and Development \n",
    "    \"\"\")),])\n",
    "'''\n",
    "    # Call our function which return a graph.\n",
    "    generate_pie(pokemon_df),\n",
    "])\n",
    "'''\n",
    "\n",
    "if __name__ == \"__main__\":\n",
    "    app_OECD.run_server(debug=True)\n"
   ]
  },
  {
   "cell_type": "markdown",
   "metadata": {},
   "source": [
    "The lasts three lines allow us to run the server using a simple command:\n",
    "\n",
    "```shell\n",
    "$ python app.py\n",
    "```\n",
    "\n",
    "If you open your favorite browser and go to `http://127.0.0.1:8050/`, you should see our header and paragraph displayed."
   ]
  }
 ],
 "metadata": {
  "kernelspec": {
   "display_name": "Python 3",
   "language": "python",
   "name": "python3"
  },
  "language_info": {
   "codemirror_mode": {
    "name": "ipython",
    "version": 3
   },
   "file_extension": ".py",
   "mimetype": "text/x-python",
   "name": "python",
   "nbconvert_exporter": "python",
   "pygments_lexer": "ipython3",
   "version": "3.10.12"
  }
 },
 "nbformat": 4,
 "nbformat_minor": 2
}
